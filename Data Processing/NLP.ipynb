{
 "cells": [
  {
   "cell_type": "code",
   "execution_count": 1,
   "metadata": {},
   "outputs": [
    {
     "name": "stdout",
     "output_type": "stream",
     "text": [
      "Connecting to MongoDB ...\n"
     ]
    }
   ],
   "source": [
    "from pymongo import MongoClient\n",
    "import re, string, nltk, csv\n",
    "from wordcloud import WordCloud, STOPWORDS\n",
    "import matplotlib.pyplot as plt\n",
    "\n",
    "print(\"Connecting to MongoDB ...\")\n",
    "client = MongoClient('localhost:27017')\n",
    "db = client['comments']"
   ]
  },
  {
   "cell_type": "code",
   "execution_count": 2,
   "metadata": {},
   "outputs": [],
   "source": [
    "rawComments = db['rawComments'].find()"
   ]
  },
  {
   "cell_type": "code",
   "execution_count": 3,
   "metadata": {},
   "outputs": [],
   "source": [
    "def translate_numbers(word):\n",
    "    word = word.replace('2', 'a')\n",
    "    word = word.replace('3', 'a')\n",
    "    word = word.replace('5', \"kh\")\n",
    "    word = word.replace('7', 'h')\n",
    "    word = word.replace('8', \"gh\")\n",
    "    word = word.replace('9', \"k\")\n",
    "    return word\n"
   ]
  },
  {
   "cell_type": "code",
   "execution_count": 4,
   "metadata": {},
   "outputs": [],
   "source": [
    "def remove_redundant_letters(word):\n",
    "    return re.sub(r'(.)\\1+', r'\\1', word) "
   ]
  },
  {
   "cell_type": "code",
   "execution_count": 5,
   "metadata": {},
   "outputs": [],
   "source": [
    "def cleanComment(comment):\n",
    "\n",
    "    tokens = comment.split()\n",
    "\n",
    "    #ignoring case by converting the words to lowercase letters\n",
    "    tokens = [word.lower() for word in tokens]\n",
    "\n",
    "    # translate arabic phonetic numbers used in tunisian dialect  (for example: '7' --> 'h', '5' --> \"kh\")\n",
    "    tokens = [translate_numbers(w) for w in tokens]\n",
    "\n",
    "    #remove punctuation\n",
    "    table = str.maketrans('', '', string.punctuation)\n",
    "    tokens = [w.translate(table) for w in tokens]\n",
    "\n",
    "    #remove redundant letters (for example: \"mahleeeeeh\" --> \"mahleh\")\n",
    "    tokens = [remove_redundant_letters(w) for w in tokens]\n",
    "\n",
    "    #remove short words of length <=2 because in general they are insignificant and will slow down the process\n",
    "    tokens = [word for word in tokens if len(word) > 2]\n",
    "\n",
    "    cleancomment = \" \".join(tokens)\n",
    "    \n",
    "    \n",
    "\n",
    "    return cleancomment"
   ]
  },
  {
   "cell_type": "code",
   "execution_count": 6,
   "metadata": {},
   "outputs": [],
   "source": [
    "def checkSimilarity(word1, word2):\n",
    "    return nltk.edit_distance(word1, word2) < 2 "
   ]
  },
  {
   "cell_type": "code",
   "execution_count": 7,
   "metadata": {},
   "outputs": [],
   "source": [
    "def sentimentScore(words, dictionary):\n",
    "    scoreComment = tokenCount = 0\n",
    "\n",
    "    for word in words:\n",
    "        for token in dictionary:\n",
    "            if checkSimilarity(word, token[0]):\n",
    "                if token[1] != \"\":\n",
    "                    scoreComment = scoreComment + int(token[1])\n",
    "                    tokenCount = tokenCount + 1\n",
    "                    break\n",
    "    if tokenCount != 0:\n",
    "        scoreComment = scoreComment / tokenCount\n",
    "\n",
    "    return scoreComment"
   ]
  },
  {
   "cell_type": "code",
   "execution_count": 8,
   "metadata": {},
   "outputs": [
    {
     "name": "stdout",
     "output_type": "stream",
     "text": [
      "Cleaning comments\n"
     ]
    }
   ],
   "source": [
    "dictionary = []\n",
    "with open('C:/Users/INFOTEC/Desktop/PI/cleanDictionary.csv', 'r', newline='',encoding=\"utf8\") as dictionaryFile:\n",
    "    dictionaryReader = csv.reader(dictionaryFile, delimiter=',')\n",
    "    i = 0\n",
    "    for row in dictionaryReader:\n",
    "        if (row[1] == 0):\n",
    "            continue\n",
    "        dictionary.append([row[0], row[1]])\n",
    "\n",
    "\n",
    "print(\"Cleaning comments\")"
   ]
  },
  {
   "cell_type": "code",
   "execution_count": 24,
   "metadata": {},
   "outputs": [],
   "source": [
    "for comment in rawComments:\n",
    "    existant = db['cleanComments'].find({\"id\": comment[\"id\"]}).count()\n",
    "    if existant:\n",
    "        continue\n",
    "\n",
    "    cleancomment = cleanComment(comment[\"review\"])\n",
    "    \n",
    "\n",
    "\n",
    "    words = cleancomment.split()\n",
    "\n",
    "    score = sentimentScore(words, dictionary)\n",
    "    \n",
    "    \n",
    "    db.cleanComments.insert({\n",
    "        \"_id\": comment[\"_id\"],\n",
    "        \"id\": comment[\"id\"],\n",
    "        \"review\": cleancomment,\n",
    "        \"score\": score\n",
    "    })\n",
    "\n"
   ]
  },
  {
   "cell_type": "code",
   "execution_count": 10,
   "metadata": {},
   "outputs": [
    {
     "name": "stdout",
     "output_type": "stream",
     "text": [
      "<pymongo.cursor.Cursor object at 0x0000017D6F78FA30>\n"
     ]
    }
   ],
   "source": [
    "print(rawComments)"
   ]
  },
  {
   "cell_type": "code",
   "execution_count": 27,
   "metadata": {},
   "outputs": [
    {
     "data": {
      "image/png": "[encoded data removed]",
      "text/plain": [
       "<Figure size 432x288 with 1 Axes>"
      ]
     },
     "metadata": {
      "needs_background": "light"
     },
     "output_type": "display_data"
    }
   ],
   "source": [
    "wordcloud = WordCloud(width = 800, height = 800,\n",
    "                background_color ='black',\n",
    "                min_font_size = 10).generate(cleancomment)\n",
    "plt.figure()\n",
    "plt.imshow(wordcloud, interpolation=\"bilinear\")\n",
    "plt.axis(\"off\")\n",
    "plt.show()"
   ]
  },
  {
   "cell_type": "code",
   "execution_count": 31,
   "metadata": {},
   "outputs": [
    {
     "data": {
      "text/plain": [
       "<wordcloud.wordcloud.WordCloud at 0x17d6ffc0190>"
      ]
     },
     "execution_count": 31,
     "metadata": {},
     "output_type": "execute_result"
    }
   ],
   "source": [
    "wordcloud.to_file('C:/Users/INFOTEC/Desktop/PI/world.png')"
   ]
  },
  {
   "cell_type": "code",
   "execution_count": null,
   "metadata": {},
   "outputs": [],
   "source": []
  }
 ],
 "metadata": {
  "kernelspec": {
   "display_name": "Python 3",
   "language": "python",
   "name": "python3"
  },
  "language_info": {
   "codemirror_mode": {
    "name": "ipython",
    "version": 3
   },
   "file_extension": ".py",
   "mimetype": "text/x-python",
   "name": "python",
   "nbconvert_exporter": "python",
   "pygments_lexer": "ipython3",
   "version": "3.8.3"
  }
 },
 "nbformat": 4,
 "nbformat_minor": 4
}
